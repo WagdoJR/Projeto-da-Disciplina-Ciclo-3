{
  "cells": [
    {
      "cell_type": "code",
      "source": [
        "# Instalar o pacote rasterio\n",
        "!pip install rasterio\n",
        "\n",
        "# Importar as bibliotecas necessárias\n",
        "import rasterio\n",
        "import numpy as np\n",
        "\n",
        "# Função para carregar a imagem e contar os pixels de interesse\n",
        "def contar_pixels(imagem_path):\n",
        "    # Abrir a imagem usando rasterio\n",
        "    with rasterio.open(imagem_path) as src:\n",
        "        # Lê a banda da imagem (geralmente a imagem de satélite tem uma banda única para os dados)\n",
        "        imagem = src.read(1)\n",
        "\n",
        "    # Contagem de pixels\n",
        "    total_pixels = imagem.size  # Total de pixels na imagem\n",
        "    sem_dados = np.sum(imagem == 0)  # Pixels sem dados (código 0)\n",
        "    soja = np.sum(imagem == 39)  # Pixels correspondentes ao plantio de soja (código 39)\n",
        "    pastagem = np.sum(imagem == 15)  # Pixels correspondentes à pastagem (código 15)\n",
        "\n",
        "    return total_pixels, sem_dados, soja, pastagem, imagem, src.transform\n",
        "\n",
        "# Caminho para a imagem baixada\n",
        "imagem_path = \"/content/brasil_coverage_2022.tif\"\n",
        "\n",
        "# Contagem de pixels\n",
        "total_pixels, sem_dados, soja, pastagem, imagem, transform = contar_pixels(imagem_path)\n",
        "\n",
        "# Calcular a área de soja e pastagem\n",
        "area_soja, area_pixel_hectares = calcular_area_pixels(soja, transform)\n",
        "area_pastagem, _ = calcular_area_pixels(pastagem, transform)\n",
        "\n",
        "# Calcular a área total do Brasil em hectares (aproximadamente 8,5 milhões de km²)\n",
        "area_brasil_hectares = 8.5 * 10**9  # Aproximadamente 8,5 milhões de km² convertidos para hectares\n",
        "\n",
        "# Cálculo da cobertura percentual\n",
        "percentual_soja = (soja / (total_pixels - sem_dados)) * 100\n",
        "percentual_pastagem = (pastagem / (total_pixels - sem_dados)) * 100\n",
        "\n",
        "# Exibir os resultados\n",
        "print(f\"Total de pixels na imagem: {total_pixels}\")\n",
        "print(f\"Pixels sem dados (código 0): {sem_dados}\")\n",
        "print(f\"Pixels de soja (código 39): {soja}\")\n",
        "print(f\"Pixels de pastagem (código 15): {pastagem}\")\n",
        "print(f\"\\nÁrea de plantio de soja: {area_soja:.2f} hectares\")\n",
        "print(f\"Área de cobertura de pastagem: {area_pastagem:.2f} hectares\")\n",
        "print(f\"\\nCobertura de soja: {percentual_soja:.2f}%\")\n",
        "print(f\"Cobertura de pastagem: {percentual_pastagem:.2f}%\")\n",
        "\n",
        "# Proporção da área no Brasil\n",
        "area_soja_brasil = (area_soja / area_pixel_hectares) * area_brasil_hectares\n",
        "area_pastagem_brasil = (area_pastagem / area_pixel_hectares) * area_brasil_hectares\n",
        "\n",
        "print(f\"\\nÁrea de soja no Brasil (proporcional): {area_soja_brasil:.2f} hectares\")\n",
        "print(f\"Área de pastagem no Brasil (proporcional): {area_pastagem_brasil:.2f} hectares\")\n"
      ],
      "metadata": {
        "colab": {
          "base_uri": "https://localhost:8080/"
        },
        "id": "Nz80FvtW1RQQ",
        "outputId": "e00e557e-b523-4c36-95a5-c5fd6de4736a"
      },
      "execution_count": null,
      "outputs": [
        {
          "output_type": "stream",
          "name": "stdout",
          "text": [
            "Requirement already satisfied: rasterio in /usr/local/lib/python3.10/dist-packages (1.4.3)\n",
            "Requirement already satisfied: affine in /usr/local/lib/python3.10/dist-packages (from rasterio) (2.4.0)\n",
            "Requirement already satisfied: attrs in /usr/local/lib/python3.10/dist-packages (from rasterio) (24.2.0)\n",
            "Requirement already satisfied: certifi in /usr/local/lib/python3.10/dist-packages (from rasterio) (2024.8.30)\n",
            "Requirement already satisfied: click>=4.0 in /usr/local/lib/python3.10/dist-packages (from rasterio) (8.1.7)\n",
            "Requirement already satisfied: cligj>=0.5 in /usr/local/lib/python3.10/dist-packages (from rasterio) (0.7.2)\n",
            "Requirement already satisfied: numpy>=1.24 in /usr/local/lib/python3.10/dist-packages (from rasterio) (1.26.4)\n",
            "Requirement already satisfied: click-plugins in /usr/local/lib/python3.10/dist-packages (from rasterio) (1.1.1)\n",
            "Requirement already satisfied: pyparsing in /usr/local/lib/python3.10/dist-packages (from rasterio) (3.2.0)\n"
          ]
        }
      ]
    }
  ],
  "metadata": {
    "colab": {
      "provenance": []
    },
    "kernelspec": {
      "display_name": "Python 3",
      "name": "python3"
    },
    "language_info": {
      "name": "python"
    }
  },
  "nbformat": 4,
  "nbformat_minor": 0
}